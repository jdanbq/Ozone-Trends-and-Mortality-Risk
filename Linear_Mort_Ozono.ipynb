{
  "nbformat": 4,
  "nbformat_minor": 0,
  "metadata": {
    "colab": {
      "provenance": []
    },
    "kernelspec": {
      "name": "python3",
      "display_name": "Python 3"
    },
    "language_info": {
      "name": "python"
    }
  },
  "cells": [
    {
      "cell_type": "code",
      "execution_count": null,
      "metadata": {
        "id": "n43BnHdWneas"
      },
      "outputs": [],
      "source": [
        "import numpy as np\n",
        "import pandas as pd\n",
        "import time\n",
        "import warnings\n",
        "warnings.filterwarnings(\"ignore\")"
      ]
    },
    {
      "cell_type": "code",
      "source": [
        "lnRR_allcause = np.log(1.016)\n",
        "lnRR_sigma_allcause = (np.log(1.021) - np.log(1.016))/1.96\n",
        "\n",
        "lnRR_ncd = np.log(1.016)\n",
        "lnRR_sigma_ncd = (np.log(1.021) - np.log(1.016))/1.96\n",
        "\n",
        "lnRR_resp = np.log(1.042)\n",
        "lnRR_sigma_resp = (np.log(1.055) - np.log(1.042))/1.96\n",
        "\n",
        "lnRR_copd = np.log(1.060)\n",
        "lnRR_sigma_copd = (np.log(1.080) - np.log(1.060))/1.96\n",
        "\n",
        "lnRR_cvd = np.log(1.017)\n",
        "lnRR_sigma_cvd = (np.log(1.024) - np.log(1.017))/1.96\n",
        "\n",
        "lnRR_ihd = np.log(1.024)\n",
        "lnRR_sigma_ihd = (np.log(1.040) - np.log(1.024))/1.96\n",
        "\n",
        "LCC = 44.5 #umbral para el ozono troposférico (O₃) de 8 horas (MDA8h)."
      ],
      "metadata": {
        "id": "SKv1HtIwzRuo"
      },
      "execution_count": null,
      "outputs": []
    },
    {
      "cell_type": "code",
      "source": [
        "data = pd.read_csv('ozone_17_mort_est_total(1119).csv')"
      ],
      "metadata": {
        "id": "1SWT2733mVx6"
      },
      "execution_count": null,
      "outputs": []
    },
    {
      "cell_type": "code",
      "source": [
        "start = time.process_time()\n",
        "results = []\n",
        "\n",
        "for t in range(0, 61607, 1):\n",
        "\n",
        "    ## Extraer población y mortalidad\n",
        "    pop_all_age       = 7873316\n",
        "    pop_all_age_sigma = pop_all_age * 0.05\n",
        "    pop_25_age        = 5268211\n",
        "    pop_25_age_sigma  = pop_25_age * 0.05\n",
        "\n",
        "    allcause_25_mort       = 504810\n",
        "    allcause_25_mort_sigma = allcause_25_mort* 0.05\n",
        "    resp_25_mort           = 14926\n",
        "    resp_25_mort_sigma     = resp_25_mort* 0.05\n",
        "    copd_25_mort           = 8211\n",
        "    copd_25_mort_sigma     = copd_25_mort* 0.05\n",
        "    cvd_25_mort            = 4563\n",
        "    cvd_25_mort_sigma      = cvd_25_mort* 0.05\n",
        "    ihd_25_mort            = 44646\n",
        "    ihd_25_mort_sigma      = ihd_25_mort * 0.05\n",
        "    ncd_25_mort            = 171525\n",
        "    ncd_25_mort_sigma      = ncd_25_mort * 0.05\n",
        "\n",
        "    o3_mda8h_urban  = 15.8\n",
        "    o3_mda8h_urban_dose = max(0, o3_mda8h_urban - LCC)\n",
        "\n",
        "    ## Simulación Monte Carlo\n",
        "    pop_all_age_dist      = np.random.normal(pop_all_age, pop_all_age_sigma, 1000)\n",
        "    pop_25_age_dist       = np.random.normal(pop_25_age , pop_25_age_sigma , 1000)\n",
        "\n",
        "    allcause_25_mort_dist = np.random.normal(allcause_25_mort, allcause_25_mort_sigma, 1000)\n",
        "    resp_25_mort_dist     = np.random.normal(resp_25_mort    , resp_25_mort_sigma    , 1000)\n",
        "    copd_25_mort_dist     = np.random.normal(copd_25_mort    , copd_25_mort_sigma    , 1000)\n",
        "    cvd_25_mort_dist      = np.random.normal(cvd_25_mort     , cvd_25_mort_sigma     , 1000)\n",
        "    ihd_25_mort_dist      = np.random.normal(ihd_25_mort     , ihd_25_mort_sigma     , 1000)\n",
        "    ncd_25_mort_dist      = np.random.normal(ncd_25_mort     , ncd_25_mort_sigma     , 1000)\n",
        "\n",
        "    RR_dist_allcause = np.random.normal(lnRR_allcause, lnRR_sigma_allcause, 1000)\n",
        "    RR_dist_resp     = np.random.normal(lnRR_resp    , lnRR_sigma_resp    , 1000)\n",
        "    RR_dist_copd     = np.random.normal(lnRR_copd    , lnRR_sigma_copd    , 1000)\n",
        "    RR_dist_cvd      = np.random.normal(lnRR_cvd     , lnRR_sigma_cvd     , 1000)\n",
        "    RR_dist_ihd      = np.random.normal(lnRR_ihd     , lnRR_sigma_ihd     , 1000)\n",
        "    RR_dist_ncd      = np.random.normal(lnRR_ncd     , lnRR_sigma_ncd     , 1000)\n",
        "\n",
        "    ## Cálculo de mortalidades atribuibles\n",
        "    delta_mort_allcause_urban = allcause_25_mort_dist * (1 - np.exp(- RR_dist_allcause * o3_mda8h_urban_dose / 10))  * pop_25_age_dist / pop_all_age_dist / 100000\n",
        "    delta_mort_resp_urban     = resp_25_mort_dist     * (1 - np.exp(- RR_dist_resp     * o3_mda8h_urban_dose / 10)) * pop_25_age_dist / pop_all_age_dist / 100000\n",
        "    delta_mort_copd_urban     = copd_25_mort_dist     * (1 - np.exp(- RR_dist_copd     * o3_mda8h_urban_dose / 10))  * pop_25_age_dist / pop_all_age_dist / 100000\n",
        "    delta_mort_cvd_urban      = cvd_25_mort_dist      * (1 - np.exp(- RR_dist_cvd      * o3_mda8h_urban_dose / 10))  * pop_25_age_dist / pop_all_age_dist / 100000\n",
        "    delta_mort_ihd_urban      = ihd_25_mort_dist      * (1 - np.exp(- RR_dist_ihd      * o3_mda8h_urban_dose / 10))  * pop_25_age_dist / pop_all_age_dist / 100000\n",
        "    delta_mort_ncd_urban      = ncd_25_mort_dist      * (1 - np.exp(- RR_dist_ncd      * o3_mda8h_urban_dose / 10))  * pop_25_age_dist / pop_all_age_dist / 100000\n",
        "\n",
        "   # Guardamos estadísticos resumen por iteración\n",
        "    results.append({\n",
        "        'row_index': t,\n",
        "        'allcause_median': np.median(delta_mort_allcause_urban),\n",
        "        'resp_median': np.median(delta_mort_resp_urban),\n",
        "        'copd_median': np.median(delta_mort_copd_urban),\n",
        "        'cvd_median': np.median(delta_mort_cvd_urban),\n",
        "        'ihd_median': np.median(delta_mort_ihd_urban),\n",
        "        'ncd_median': np.median(delta_mort_ncd_urban),\n",
        "    })\n",
        "\n",
        "    if t % 1000 == 0:\n",
        "        print(f\"Iteración {t}\")\n",
        "\n",
        "# Guardar en DataFrame y CSV\n",
        "results_df = pd.DataFrame(results)\n",
        "results_df.to_csv('resultados_mortalidad_urbana.csv', index=False)\n",
        "\n",
        "elapsed = time.process_time() - start\n",
        "print('Tiempo total:', elapsed, \"s\")\n",
        "print(\"Resultados guardados en 'resultados_mortalidad_urbana.csv'\")"
      ],
      "metadata": {
        "colab": {
          "base_uri": "https://localhost:8080/"
        },
        "id": "4Uw3-ds74liG",
        "outputId": "df2c20b0-9dc8-47bc-d550-1da46ed24093"
      },
      "execution_count": null,
      "outputs": [
        {
          "output_type": "stream",
          "name": "stdout",
          "text": [
            "Iteración 0\n",
            "Iteración 1000\n",
            "Iteración 2000\n",
            "Iteración 3000\n",
            "Iteración 4000\n",
            "Iteración 5000\n",
            "Iteración 6000\n",
            "Iteración 7000\n",
            "Iteración 8000\n",
            "Iteración 9000\n",
            "Iteración 10000\n",
            "Iteración 11000\n",
            "Iteración 12000\n",
            "Iteración 13000\n",
            "Iteración 14000\n",
            "Iteración 15000\n",
            "Iteración 16000\n",
            "Iteración 17000\n",
            "Iteración 18000\n",
            "Iteración 19000\n",
            "Iteración 20000\n",
            "Iteración 21000\n",
            "Iteración 22000\n",
            "Iteración 23000\n",
            "Iteración 24000\n",
            "Iteración 25000\n",
            "Iteración 26000\n",
            "Iteración 27000\n",
            "Iteración 28000\n",
            "Iteración 29000\n",
            "Iteración 30000\n",
            "Iteración 31000\n",
            "Iteración 32000\n",
            "Iteración 33000\n",
            "Iteración 34000\n",
            "Iteración 35000\n",
            "Iteración 36000\n",
            "Iteración 37000\n",
            "Iteración 38000\n",
            "Iteración 39000\n",
            "Iteración 40000\n",
            "Iteración 41000\n",
            "Iteración 42000\n",
            "Iteración 43000\n",
            "Iteración 44000\n",
            "Iteración 45000\n",
            "Iteración 46000\n",
            "Iteración 47000\n",
            "Iteración 48000\n",
            "Iteración 49000\n",
            "Iteración 50000\n",
            "Iteración 51000\n",
            "Iteración 52000\n",
            "Iteración 53000\n",
            "Iteración 54000\n",
            "Iteración 55000\n",
            "Iteración 56000\n",
            "Iteración 57000\n",
            "Iteración 58000\n",
            "Iteración 59000\n",
            "Iteración 60000\n",
            "Iteración 61000\n",
            "Tiempo total: 57.552099049 s\n",
            "Resultados guardados en 'resultados_mortalidad_urbana.csv'\n"
          ]
        }
      ]
    },
    {
      "cell_type": "code",
      "source": [],
      "metadata": {
        "id": "D23tqsZWmTCL"
      },
      "execution_count": null,
      "outputs": []
    }
  ]
}